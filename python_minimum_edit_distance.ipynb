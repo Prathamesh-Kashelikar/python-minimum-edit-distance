{
  "cells": [
    {
      "cell_type": "markdown",
      "metadata": {
        "id": "view-in-github",
        "colab_type": "text"
      },
      "source": [
        "<a href=\"https://colab.research.google.com/github/Prathamesh-Kashelikar/python-minimum-edit-distance/blob/main/python_minimum_edit_distance.ipynb\" target=\"_parent\"><img src=\"https://colab.research.google.com/assets/colab-badge.svg\" alt=\"Open In Colab\"/></a>"
      ]
    },
    {
      "cell_type": "code",
      "execution_count": 1,
      "id": "96a8860f",
      "metadata": {
        "colab": {
          "base_uri": "https://localhost:8080/"
        },
        "id": "96a8860f",
        "outputId": "1b8ef0bb-a978-4e6d-9a1b-a3831b85ef35"
      },
      "outputs": [
        {
          "output_type": "stream",
          "name": "stdout",
          "text": [
            "\u001b[?25l\r\u001b[K     |████▊                           | 10 kB 18.6 MB/s eta 0:00:01\r\u001b[K     |█████████▌                      | 20 kB 9.2 MB/s eta 0:00:01\r\u001b[K     |██████████████▎                 | 30 kB 8.1 MB/s eta 0:00:01\r\u001b[K     |███████████████████             | 40 kB 7.2 MB/s eta 0:00:01\r\u001b[K     |███████████████████████▉        | 51 kB 4.2 MB/s eta 0:00:01\r\u001b[K     |████████████████████████████▋   | 61 kB 4.9 MB/s eta 0:00:01\r\u001b[K     |████████████████████████████████| 68 kB 1.7 MB/s \n",
            "\u001b[?25h  Building wheel for uuid (setup.py) ... \u001b[?25l\u001b[?25hdone\n"
          ]
        }
      ],
      "source": [
        "# Jovian Commit Essentials\n",
        "# Please retain and execute this cell without modifying the contents for `jovian.commit` to work\n",
        "!pip install jovian --upgrade -q\n",
        "import jovian\n",
        "jovian.set_project('python-minimum-edit-distance')\n",
        "jovian.set_colab_id('1gtPtbI3efgxg5EjWna8vZl-0OlR3d5XC')"
      ]
    },
    {
      "cell_type": "markdown",
      "id": "informational-woman",
      "metadata": {
        "id": "informational-woman"
      },
      "source": [
        "## Minimum Edit Distance\n",
        "\n",
        "The following interview was asked during a coding interview at Google:\n",
        "\n",
        "> Given two strings A and B, find the minimum number of steps required to convert A to B. (each operation is counted as 1 step.) You have the following 3 operations permitted on a word:\n",
        ">\n",
        "> * Insert a character\n",
        "> * Delete a character\n",
        "> * Replace a character\n",
        "\n",
        "Here's a visual representation (source: iDeserve)\n",
        "\n",
        "![](https://www.ideserve.co.in/learn/img/editDistance_0.gif)"
      ]
    },
    {
      "cell_type": "code",
      "execution_count": null,
      "id": "treated-management",
      "metadata": {
        "id": "treated-management"
      },
      "outputs": [],
      "source": [
        "# Solve the problem here"
      ]
    },
    {
      "cell_type": "code",
      "execution_count": null,
      "id": "nearby-class",
      "metadata": {
        "id": "nearby-class"
      },
      "outputs": [],
      "source": [
        "# Test the solution here"
      ]
    },
    {
      "cell_type": "code",
      "execution_count": null,
      "id": "cardiovascular-afghanistan",
      "metadata": {
        "id": "cardiovascular-afghanistan"
      },
      "outputs": [],
      "source": [
        ""
      ]
    },
    {
      "cell_type": "code",
      "execution_count": null,
      "id": "coordinate-demographic",
      "metadata": {
        "id": "coordinate-demographic"
      },
      "outputs": [],
      "source": [
        ""
      ]
    },
    {
      "cell_type": "code",
      "execution_count": 2,
      "id": "pursuant-packaging",
      "metadata": {
        "id": "pursuant-packaging"
      },
      "outputs": [],
      "source": [
        "import jovian"
      ]
    },
    {
      "cell_type": "code",
      "execution_count": 3,
      "id": "sonic-registrar",
      "metadata": {
        "colab": {
          "base_uri": "https://localhost:8080/",
          "height": 122
        },
        "id": "sonic-registrar",
        "outputId": "80eb9997-0ccf-481f-aed5-79ba8a4a6444"
      },
      "outputs": [
        {
          "output_type": "stream",
          "name": "stdout",
          "text": [
            "[jovian] Detected Colab notebook...\u001b[0m\n",
            "[jovian] Please enter your API key ( from https://jovian.ai/ ):\u001b[0m\n",
            "API KEY: ··········\n",
            "[jovian] Uploading colab notebook to Jovian...\u001b[0m\n",
            "Committed successfully! https://jovian.ai/prathamesh-kashelikar/python-minimum-edit-distance\n"
          ]
        },
        {
          "output_type": "execute_result",
          "data": {
            "text/plain": [
              "'https://jovian.ai/prathamesh-kashelikar/python-minimum-edit-distance'"
            ],
            "application/vnd.google.colaboratory.intrinsic+json": {
              "type": "string"
            }
          },
          "metadata": {},
          "execution_count": 3
        }
      ],
      "source": [
        "jovian.commit()"
      ]
    },
    {
      "cell_type": "markdown",
      "id": "laden-packing",
      "metadata": {
        "id": "laden-packing"
      },
      "source": [
        "Brute force (recursion - exponential):"
      ]
    },
    {
      "cell_type": "code",
      "execution_count": null,
      "id": "magnetic-glory",
      "metadata": {
        "id": "magnetic-glory"
      },
      "outputs": [],
      "source": [
        "def min_edit_distance(str1, str2, i1=0, i2=0):\n",
        "    if i1 == len(str1):\n",
        "        return len(str2) - i2\n",
        "    if i2 == len(str2):\n",
        "        return len(str1) - i1\n",
        "    if str1[i1] == str2[i2]:\n",
        "        return min_edit_distance(str1, str2, i1+1, i2+1)\n",
        "    return 1 + min(min_edit_distance(str1, str2, i1, i2+1), # Insert at beginning of str1\n",
        "                   min_edit_distance(str1, str2, i1+1, i2), # Remove from beginning of str1\n",
        "                   min_edit_distance(str1, str2, i1+1, i2+1)) # Swap first character of str1\n",
        "        "
      ]
    },
    {
      "cell_type": "code",
      "execution_count": null,
      "id": "veterinary-effectiveness",
      "metadata": {
        "id": "veterinary-effectiveness",
        "outputId": "a597b568-21dc-4bc2-bfac-cb77bb711833"
      },
      "outputs": [
        {
          "data": {
            "text/plain": [
              "5"
            ]
          },
          "execution_count": 13,
          "metadata": {},
          "output_type": "execute_result"
        }
      ],
      "source": [
        "min_edit_distance('wednesday', 'thursday')"
      ]
    },
    {
      "cell_type": "code",
      "execution_count": null,
      "id": "beautiful-moral",
      "metadata": {
        "id": "beautiful-moral",
        "outputId": "71e94ded-16ce-4622-f80c-e42fdf8a11f4"
      },
      "outputs": [
        {
          "data": {
            "text/plain": [
              "5"
            ]
          },
          "execution_count": 12,
          "metadata": {},
          "output_type": "execute_result"
        }
      ],
      "source": [
        "min_edit_distance('intention', 'execution')"
      ]
    },
    {
      "cell_type": "markdown",
      "id": "smart-henry",
      "metadata": {
        "id": "smart-henry"
      },
      "source": [
        "Improved (memoization - $O(n_1*n_2)$):"
      ]
    },
    {
      "cell_type": "code",
      "execution_count": null,
      "id": "lovely-artwork",
      "metadata": {
        "id": "lovely-artwork"
      },
      "outputs": [],
      "source": [
        "def min_edit_distance2(str1, str2):\n",
        "    memo = {}\n",
        "    def recurse(i1, i2):\n",
        "        key = (i1, i2)\n",
        "        if key in memo:\n",
        "            return memo[key]\n",
        "        elif i1 == len(str1):\n",
        "            memo[key] = len(str2) - i2\n",
        "        elif i2 == len(str2):\n",
        "            memo[key] = len(str1) - i1\n",
        "        elif str1[i1] == str2[i2]:\n",
        "            memo[key] = recurse(i1+1, i2+1)\n",
        "        else:\n",
        "            memo[key] = 1 + min(recurse(i1, i2+1), \n",
        "                                recurse(i1+1, i2), \n",
        "                                recurse(i1+1, i2+1))\n",
        "        return memo[key]\n",
        "    return recurse(0, 0)"
      ]
    },
    {
      "cell_type": "code",
      "execution_count": null,
      "id": "detailed-variance",
      "metadata": {
        "id": "detailed-variance",
        "outputId": "4b227850-0490-4b22-a085-79025be2a482"
      },
      "outputs": [
        {
          "data": {
            "text/plain": [
              "5"
            ]
          },
          "execution_count": 25,
          "metadata": {},
          "output_type": "execute_result"
        }
      ],
      "source": [
        "min_edit_distance2('intention', 'execution')"
      ]
    },
    {
      "cell_type": "markdown",
      "id": "lasting-grove",
      "metadata": {
        "id": "lasting-grove"
      },
      "source": [
        "Best (Dynamic programming - $O(n_1*n_2)$):"
      ]
    },
    {
      "cell_type": "code",
      "execution_count": null,
      "id": "pleased-steering",
      "metadata": {
        "id": "pleased-steering"
      },
      "outputs": [],
      "source": [
        "# left as an exercise"
      ]
    },
    {
      "cell_type": "code",
      "execution_count": null,
      "id": "intellectual-shield",
      "metadata": {
        "id": "intellectual-shield"
      },
      "outputs": [],
      "source": [
        ""
      ]
    }
  ],
  "metadata": {
    "kernelspec": {
      "display_name": "Python 3",
      "language": "python",
      "name": "python3"
    },
    "language_info": {
      "codemirror_mode": {
        "name": "ipython",
        "version": 3
      },
      "file_extension": ".py",
      "mimetype": "text/x-python",
      "name": "python",
      "nbconvert_exporter": "python",
      "pygments_lexer": "ipython3",
      "version": "3.6.12"
    },
    "colab": {
      "name": "python-minimum-edit-distance.ipynb",
      "provenance": [],
      "include_colab_link": true
    }
  },
  "nbformat": 4,
  "nbformat_minor": 5
}