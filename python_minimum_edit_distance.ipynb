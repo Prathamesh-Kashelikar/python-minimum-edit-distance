{
  "cells": [
    {
      "cell_type": "markdown",
      "metadata": {
        "id": "view-in-github",
        "colab_type": "text"
      },
      "source": [
        "<a href=\"https://colab.research.google.com/github/Prathamesh-Kashelikar/python-minimum-edit-distance/blob/main/python_minimum_edit_distance.ipynb\" target=\"_parent\"><img src=\"https://colab.research.google.com/assets/colab-badge.svg\" alt=\"Open In Colab\"/></a>"
      ]
    },
    {
      "cell_type": "code",
      "execution_count": 1,
      "id": "96a8860f",
      "metadata": {
        "colab": {
          "base_uri": "https://localhost:8080/"
        },
        "id": "96a8860f",
        "outputId": "cd0c314b-0f49-4280-f6d2-603d09de2e97"
      },
      "outputs": [
        {
          "output_type": "stream",
          "name": "stdout",
          "text": [
            "\u001b[?25l\r\u001b[K     |████▊                           | 10 kB 25.4 MB/s eta 0:00:01\r\u001b[K     |█████████▌                      | 20 kB 30.7 MB/s eta 0:00:01\r\u001b[K     |██████████████▎                 | 30 kB 34.6 MB/s eta 0:00:01\r\u001b[K     |███████████████████             | 40 kB 21.0 MB/s eta 0:00:01\r\u001b[K     |███████████████████████▉        | 51 kB 8.5 MB/s eta 0:00:01\r\u001b[K     |████████████████████████████▋   | 61 kB 9.8 MB/s eta 0:00:01\r\u001b[K     |████████████████████████████████| 68 kB 3.6 MB/s \n",
            "\u001b[?25h  Building wheel for uuid (setup.py) ... \u001b[?25l\u001b[?25hdone\n"
          ]
        }
      ],
      "source": [
        "# Jovian Commit Essentials\n",
        "# Please retain and execute this cell without modifying the contents for `jovian.commit` to work\n",
        "!pip install jovian --upgrade -q\n",
        "import jovian\n",
        "jovian.set_project('python-minimum-edit-distance')\n",
        "jovian.set_colab_id('1gtPtbI3efgxg5EjWna8vZl-0OlR3d5XC')"
      ]
    },
    {
      "cell_type": "markdown",
      "id": "informational-woman",
      "metadata": {
        "id": "informational-woman"
      },
      "source": [
        "## Minimum Edit Distance\n",
        "\n",
        "The following interview was asked during a coding interview at Google:\n",
        "\n",
        "> Given two strings A and B, find the minimum number of steps required to convert A to B. (each operation is counted as 1 step.) You have the following 3 operations permitted on a word:\n",
        ">\n",
        "> * Insert a character\n",
        "> * Delete a character\n",
        "> * Replace a character\n",
        "\n",
        "Here's a visual representation (source: iDeserve)\n",
        "\n",
        "![](https://www.ideserve.co.in/learn/img/editDistance_0.gif)"
      ]
    },
    {
      "cell_type": "code",
      "execution_count": 2,
      "id": "treated-management",
      "metadata": {
        "id": "treated-management"
      },
      "outputs": [],
      "source": [
        "# Solve the problem here\n",
        "\n",
        "#input\n",
        "str1 = \"intention\"\n",
        "str2 = \"execution\"\n",
        "#output\n",
        "output1 = 5\n",
        "#function signature\n",
        "\n",
        "\n",
        "def min_steps(str1,str2):\n",
        "  pass\n",
        "\n",
        "\n",
        "'''\n",
        "1. general case\n",
        "2. no change req\n",
        "3. all char need to be changed\n",
        "4. both str. equal len\n",
        "5. unequal len str\n",
        "6. one str is empty\n",
        "7. only deletion , only addition , only swap\n",
        "'''\n",
        "\n",
        "\n",
        "\n",
        "\n",
        "'''\n",
        "Recursion :\n",
        "- if 1st char is equal , then ignore\n",
        "- if 1st not equal\n",
        "  - either delete 1st\n",
        "    - recursively solve after ignoring 1st char of str 1\n",
        "  - swap 1st\n",
        "    - 1 + recursively solve after ignoring 1st char of each str\n",
        "  - char inserted before\n",
        "    - 1 + recursively solve after ignoring 1st char of str2\n",
        "'''\n",
        "\n",
        "def min_steps(str1,str2, i1 =0 ,i2=0):\n",
        "  if i1 == len(str1):\n",
        "    return len(str2) - i2\n",
        "  elif i2 == len(str2):\n",
        "    return len(str1) - i1\n",
        "  elif str1[i1] == str2[i2]:\n",
        "    return min_steps(str1,str2, i1+1 ,i2+1)\n",
        "  else:\n",
        "    return 1 + min(min_steps(str1,str2,i1+1,i2),  # deleted\n",
        "                   min_steps(str1,str2,i1+1,i2+1),  # swap\n",
        "                   min_steps(str1,str2,i1,i2+1))  # inserted\n",
        "\n",
        "\n",
        "\n"
      ]
    },
    {
      "cell_type": "code",
      "execution_count": 3,
      "id": "nearby-class",
      "metadata": {
        "colab": {
          "base_uri": "https://localhost:8080/"
        },
        "id": "nearby-class",
        "outputId": "e73a0c6d-b742-482f-d1c9-4973f0ce2d1a"
      },
      "outputs": [
        {
          "output_type": "execute_result",
          "data": {
            "text/plain": [
              "3"
            ]
          },
          "metadata": {},
          "execution_count": 3
        }
      ],
      "source": [
        "# 1 str is empty\n",
        "min_steps('','int')"
      ]
    },
    {
      "cell_type": "code",
      "execution_count": 4,
      "id": "cardiovascular-afghanistan",
      "metadata": {
        "colab": {
          "base_uri": "https://localhost:8080/"
        },
        "id": "cardiovascular-afghanistan",
        "outputId": "5586b077-e7f8-47b4-de24-d285e52e9234"
      },
      "outputs": [
        {
          "output_type": "execute_result",
          "data": {
            "text/plain": [
              "3"
            ]
          },
          "metadata": {},
          "execution_count": 4
        }
      ],
      "source": [
        "# both str unequal\n",
        "min_steps('int','india')"
      ]
    },
    {
      "cell_type": "code",
      "source": [
        "# general\n",
        "min_steps('intention','execution')"
      ],
      "metadata": {
        "colab": {
          "base_uri": "https://localhost:8080/"
        },
        "id": "VejfyFpg-Vt1",
        "outputId": "f2a778d4-57f6-4e26-8261-ea179c494c6f"
      },
      "id": "VejfyFpg-Vt1",
      "execution_count": 5,
      "outputs": [
        {
          "output_type": "execute_result",
          "data": {
            "text/plain": [
              "5"
            ]
          },
          "metadata": {},
          "execution_count": 5
        }
      ]
    },
    {
      "cell_type": "code",
      "source": [
        "# \n",
        "min_steps('saturday','sunday')"
      ],
      "metadata": {
        "colab": {
          "base_uri": "https://localhost:8080/"
        },
        "id": "mIANoRor-VrN",
        "outputId": "1e38583b-8ef4-40ea-8554-8bb119b65ba6"
      },
      "id": "mIANoRor-VrN",
      "execution_count": 6,
      "outputs": [
        {
          "output_type": "execute_result",
          "data": {
            "text/plain": [
              "3"
            ]
          },
          "metadata": {},
          "execution_count": 6
        }
      ]
    },
    {
      "cell_type": "code",
      "source": [
        ""
      ],
      "metadata": {
        "id": "Vnjsy8yH-Vob"
      },
      "id": "Vnjsy8yH-Vob",
      "execution_count": null,
      "outputs": []
    },
    {
      "cell_type": "code",
      "execution_count": null,
      "id": "coordinate-demographic",
      "metadata": {
        "id": "coordinate-demographic"
      },
      "outputs": [],
      "source": [
        ""
      ]
    },
    {
      "cell_type": "code",
      "execution_count": 7,
      "id": "pursuant-packaging",
      "metadata": {
        "id": "pursuant-packaging"
      },
      "outputs": [],
      "source": [
        "import jovian"
      ]
    },
    {
      "cell_type": "code",
      "execution_count": 8,
      "id": "sonic-registrar",
      "metadata": {
        "colab": {
          "base_uri": "https://localhost:8080/",
          "height": 122
        },
        "id": "sonic-registrar",
        "outputId": "73053687-4aa5-496b-961c-6fc14c664e87"
      },
      "outputs": [
        {
          "output_type": "stream",
          "name": "stdout",
          "text": [
            "[jovian] Detected Colab notebook...\u001b[0m\n",
            "[jovian] Please enter your API key ( from https://jovian.ai/ ):\u001b[0m\n",
            "API KEY: ··········\n",
            "[jovian] Uploading colab notebook to Jovian...\u001b[0m\n",
            "Committed successfully! https://jovian.ai/prathamesh-kashelikar/python-minimum-edit-distance\n"
          ]
        },
        {
          "output_type": "execute_result",
          "data": {
            "text/plain": [
              "'https://jovian.ai/prathamesh-kashelikar/python-minimum-edit-distance'"
            ],
            "application/vnd.google.colaboratory.intrinsic+json": {
              "type": "string"
            }
          },
          "metadata": {},
          "execution_count": 8
        }
      ],
      "source": [
        "jovian.commit()"
      ]
    },
    {
      "cell_type": "markdown",
      "id": "laden-packing",
      "metadata": {
        "id": "laden-packing"
      },
      "source": [
        "Brute force (recursion - exponential):"
      ]
    },
    {
      "cell_type": "code",
      "execution_count": 10,
      "id": "magnetic-glory",
      "metadata": {
        "id": "magnetic-glory"
      },
      "outputs": [],
      "source": [
        "def min_edit_distance(str1, str2, i1=0, i2=0):\n",
        "    if i1 == len(str1):\n",
        "        return len(str2) - i2\n",
        "    if i2 == len(str2):\n",
        "        return len(str1) - i1\n",
        "    if str1[i1] == str2[i2]:\n",
        "        return min_edit_distance(str1, str2, i1+1, i2+1)\n",
        "    return 1 + min(min_edit_distance(str1, str2, i1, i2+1), # Insert at beginning of str1\n",
        "                   min_edit_distance(str1, str2, i1+1, i2), # Remove from beginning of str1\n",
        "                   min_edit_distance(str1, str2, i1+1, i2+1)) # Swap first character of str1\n",
        "\n",
        "def min_edit_distance_memo(str1,str2):\n",
        "  memo ={}\n",
        "  def recurse(i1,i2):\n",
        "    key = i1,i2\n",
        "    if key in memo:\n",
        "      return memo[key]\n",
        "    elif i1 == len(str1):\n",
        "        memo[key] == len(str2)-i2\n",
        "    elif i2 == len(str2):\n",
        "      memo[key] = len(str1) - i1\n",
        "    elif str[i1] == str2[i2]:\n",
        "      memo[key] = recurse(i1+1,i2+1)\n",
        "    else:\n",
        "      memo[key] = 1 +min(recurse(i1+1,i2),\n",
        "                         recurse(i1+1,i2+1),\n",
        "                         recurse(i1,i2+1))\n",
        "    return memo[key]\n",
        "  return recurse(0,0)"
      ]
    },
    {
      "cell_type": "code",
      "execution_count": 11,
      "id": "veterinary-effectiveness",
      "metadata": {
        "colab": {
          "base_uri": "https://localhost:8080/"
        },
        "id": "veterinary-effectiveness",
        "outputId": "60226493-3ffa-46c9-f40b-771e268d5012"
      },
      "outputs": [
        {
          "output_type": "execute_result",
          "data": {
            "text/plain": [
              "5"
            ]
          },
          "metadata": {},
          "execution_count": 11
        }
      ],
      "source": [
        "min_edit_distance('wednesday', 'thursday')"
      ]
    },
    {
      "cell_type": "code",
      "execution_count": 12,
      "id": "beautiful-moral",
      "metadata": {
        "colab": {
          "base_uri": "https://localhost:8080/"
        },
        "id": "beautiful-moral",
        "outputId": "cad64f28-5b13-4c94-d538-1d7d58dca533"
      },
      "outputs": [
        {
          "output_type": "execute_result",
          "data": {
            "text/plain": [
              "5"
            ]
          },
          "metadata": {},
          "execution_count": 12
        }
      ],
      "source": [
        "min_edit_distance('intention', 'execution')"
      ]
    },
    {
      "cell_type": "markdown",
      "id": "smart-henry",
      "metadata": {
        "id": "smart-henry"
      },
      "source": [
        "Improved (memoization - $O(n_1*n_2)$):"
      ]
    },
    {
      "cell_type": "code",
      "execution_count": 13,
      "id": "lovely-artwork",
      "metadata": {
        "id": "lovely-artwork"
      },
      "outputs": [],
      "source": [
        "def min_edit_distance2(str1, str2):\n",
        "    memo = {}\n",
        "    def recurse(i1, i2):\n",
        "        key = (i1, i2)\n",
        "        if key in memo:\n",
        "            return memo[key]\n",
        "        elif i1 == len(str1):\n",
        "            memo[key] = len(str2) - i2\n",
        "        elif i2 == len(str2):\n",
        "            memo[key] = len(str1) - i1\n",
        "        elif str1[i1] == str2[i2]:\n",
        "            memo[key] = recurse(i1+1, i2+1)\n",
        "        else:\n",
        "            memo[key] = 1 + min(recurse(i1, i2+1), \n",
        "                                recurse(i1+1, i2), \n",
        "                                recurse(i1+1, i2+1))\n",
        "        return memo[key]\n",
        "    return recurse(0, 0)"
      ]
    },
    {
      "cell_type": "code",
      "execution_count": 14,
      "id": "detailed-variance",
      "metadata": {
        "colab": {
          "base_uri": "https://localhost:8080/"
        },
        "id": "detailed-variance",
        "outputId": "83e120e7-16e8-45d4-b960-2cb5412ad6cb"
      },
      "outputs": [
        {
          "output_type": "execute_result",
          "data": {
            "text/plain": [
              "5"
            ]
          },
          "metadata": {},
          "execution_count": 14
        }
      ],
      "source": [
        "min_edit_distance2('intention', 'execution')"
      ]
    },
    {
      "cell_type": "markdown",
      "id": "lasting-grove",
      "metadata": {
        "id": "lasting-grove"
      },
      "source": [
        "Best (Dynamic programming - $O(n_1*n_2)$):"
      ]
    },
    {
      "cell_type": "code",
      "execution_count": null,
      "id": "pleased-steering",
      "metadata": {
        "id": "pleased-steering"
      },
      "outputs": [],
      "source": [
        "# left as an exercise"
      ]
    },
    {
      "cell_type": "code",
      "execution_count": 15,
      "id": "intellectual-shield",
      "metadata": {
        "id": "intellectual-shield"
      },
      "outputs": [],
      "source": [
        "import jovian"
      ]
    },
    {
      "cell_type": "code",
      "source": [
        "jovian.commit()"
      ],
      "metadata": {
        "colab": {
          "base_uri": "https://localhost:8080/",
          "height": 87
        },
        "id": "NE9YK2VORafD",
        "outputId": "0f0593f8-f794-4d1f-9b0d-d735f4f460fa"
      },
      "id": "NE9YK2VORafD",
      "execution_count": 16,
      "outputs": [
        {
          "output_type": "stream",
          "name": "stdout",
          "text": [
            "[jovian] Detected Colab notebook...\u001b[0m\n",
            "[jovian] Uploading colab notebook to Jovian...\u001b[0m\n",
            "Committed successfully! https://jovian.ai/prathamesh-kashelikar/python-minimum-edit-distance\n"
          ]
        },
        {
          "output_type": "execute_result",
          "data": {
            "text/plain": [
              "'https://jovian.ai/prathamesh-kashelikar/python-minimum-edit-distance'"
            ],
            "application/vnd.google.colaboratory.intrinsic+json": {
              "type": "string"
            }
          },
          "metadata": {},
          "execution_count": 16
        }
      ]
    },
    {
      "cell_type": "code",
      "source": [
        ""
      ],
      "metadata": {
        "id": "H5Y4e7qrRdcY"
      },
      "id": "H5Y4e7qrRdcY",
      "execution_count": null,
      "outputs": []
    }
  ],
  "metadata": {
    "kernelspec": {
      "display_name": "Python 3",
      "language": "python",
      "name": "python3"
    },
    "language_info": {
      "codemirror_mode": {
        "name": "ipython",
        "version": 3
      },
      "file_extension": ".py",
      "mimetype": "text/x-python",
      "name": "python",
      "nbconvert_exporter": "python",
      "pygments_lexer": "ipython3",
      "version": "3.6.12"
    },
    "colab": {
      "name": "python-minimum-edit-distance.ipynb",
      "provenance": [],
      "include_colab_link": true
    }
  },
  "nbformat": 4,
  "nbformat_minor": 5
}